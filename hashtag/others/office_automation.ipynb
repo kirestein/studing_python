{
 "cells": [
  {
   "attachments": {},
   "cell_type": "markdown",
   "metadata": {},
   "source": [
    "# Enviar arquivo pelo outlook"
   ]
  },
  {
   "cell_type": "code",
   "execution_count": 2,
   "metadata": {},
   "outputs": [],
   "source": [
    "import win32com.client as win32\n",
    "\n",
    "# criando objeto outlook\n",
    "outlook = win32.Dispatch('outlook.application')\n",
    "\n",
    "# criando e-mail\n",
    "email = outlook.CreateItem(0)\n",
    "email.To = 'erik.proenca2011@gmail.com'\n",
    "email.Subject = 'Relatório de vendas'\n",
    "email.Body = 'Segue em anexo o relatório de vendas do mês.'\n",
    "\n",
    "#Anexando arquivo em Excel\n",
    "anexo = r'C:\\Users\\Erik\\Documents\\studing_python\\hashtag\\Produtos.xlsx'\n",
    "email.Attachments.Add(anexo)\n",
    "\n",
    "# enviando o e-mail\n",
    "email.Send()"
   ]
  },
  {
   "attachments": {},
   "cell_type": "markdown",
   "metadata": {},
   "source": [
    "# Construir um slide a partir de uma base de informações"
   ]
  },
  {
   "cell_type": "code",
   "execution_count": 5,
   "metadata": {},
   "outputs": [
    {
     "name": "stdout",
     "output_type": "stream",
     "text": [
      "Requirement already satisfied: openpyxl in c:\\users\\erik\\appdata\\local\\packages\\pythonsoftwarefoundation.python.3.10_qbz5n2kfra8p0\\localcache\\local-packages\\python310\\site-packages (3.1.2)\n",
      "Requirement already satisfied: et-xmlfile in c:\\users\\erik\\appdata\\local\\packages\\pythonsoftwarefoundation.python.3.10_qbz5n2kfra8p0\\localcache\\local-packages\\python310\\site-packages (from openpyxl) (1.1.0)\n"
     ]
    },
    {
     "name": "stderr",
     "output_type": "stream",
     "text": [
      "\n",
      "[notice] A new release of pip is available: 23.0.1 -> 23.1\n",
      "[notice] To update, run: C:\\Users\\Erik\\AppData\\Local\\Microsoft\\WindowsApps\\PythonSoftwareFoundation.Python.3.10_qbz5n2kfra8p0\\python.exe -m pip install --upgrade pip\n"
     ]
    },
    {
     "name": "stdout",
     "output_type": "stream",
     "text": [
      "Collecting python-pptx\n",
      "  Downloading python-pptx-0.6.21.tar.gz (10.1 MB)\n",
      "     ---------------------------------------- 0.0/10.1 MB ? eta -:--:--\n",
      "     --- ------------------------------------ 0.8/10.1 MB 24.1 MB/s eta 0:00:01\n",
      "     ------- -------------------------------- 1.8/10.1 MB 22.8 MB/s eta 0:00:01\n",
      "     ------------- -------------------------- 3.3/10.1 MB 26.2 MB/s eta 0:00:01\n",
      "     ------------------- -------------------- 4.9/10.1 MB 28.4 MB/s eta 0:00:01\n",
      "     ------------------------ --------------- 6.3/10.1 MB 28.9 MB/s eta 0:00:01\n",
      "     --------------------------------- ------ 8.4/10.1 MB 31.6 MB/s eta 0:00:01\n",
      "     --------------------------------------  10.1/10.1 MB 32.3 MB/s eta 0:00:01\n",
      "     --------------------------------------  10.1/10.1 MB 32.3 MB/s eta 0:00:01\n",
      "     --------------------------------------- 10.1/10.1 MB 24.9 MB/s eta 0:00:00\n",
      "  Preparing metadata (setup.py): started\n",
      "  Preparing metadata (setup.py): finished with status 'done'\n",
      "Collecting lxml>=3.1.0\n",
      "  Downloading lxml-4.9.2-cp310-cp310-win_amd64.whl (3.8 MB)\n",
      "     ---------------------------------------- 0.0/3.8 MB ? eta -:--:--\n",
      "     -------------- ------------------------- 1.4/3.8 MB 29.4 MB/s eta 0:00:01\n",
      "     ------------------------------------- -- 3.6/3.8 MB 38.3 MB/s eta 0:00:01\n",
      "     ---------------------------------------  3.8/3.8 MB 40.4 MB/s eta 0:00:01\n",
      "     ---------------------------------------- 3.8/3.8 MB 26.9 MB/s eta 0:00:00\n",
      "Collecting Pillow>=3.3.2\n",
      "  Downloading Pillow-9.5.0-cp310-cp310-win_amd64.whl (2.5 MB)\n",
      "     ---------------------------------------- 0.0/2.5 MB ? eta -:--:--\n",
      "     -------------------- ------------------- 1.3/2.5 MB 39.0 MB/s eta 0:00:01\n",
      "     ---------------------------------------  2.5/2.5 MB 39.7 MB/s eta 0:00:01\n",
      "     ---------------------------------------- 2.5/2.5 MB 26.6 MB/s eta 0:00:00\n",
      "Collecting XlsxWriter>=0.5.7\n",
      "  Downloading XlsxWriter-3.1.0-py3-none-any.whl (152 kB)\n",
      "     ---------------------------------------- 0.0/152.7 kB ? eta -:--:--\n",
      "     -------------------------------------- 152.7/152.7 kB 8.9 MB/s eta 0:00:00\n",
      "Installing collected packages: XlsxWriter, Pillow, lxml, python-pptx\n",
      "  Running setup.py install for python-pptx: started\n",
      "  Running setup.py install for python-pptx: finished with status 'done'\n",
      "Successfully installed Pillow-9.5.0 XlsxWriter-3.1.0 lxml-4.9.2 python-pptx-0.6.21\n"
     ]
    },
    {
     "name": "stderr",
     "output_type": "stream",
     "text": [
      "  DEPRECATION: python-pptx is being installed using the legacy 'setup.py install' method, because it does not have a 'pyproject.toml' and the 'wheel' package is not installed. pip 23.1 will enforce this behaviour change. A possible replacement is to enable the '--use-pep517' option. Discussion can be found at https://github.com/pypa/pip/issues/8559\n",
      "\n",
      "[notice] A new release of pip is available: 23.0.1 -> 23.1\n",
      "[notice] To update, run: C:\\Users\\Erik\\AppData\\Local\\Microsoft\\WindowsApps\\PythonSoftwareFoundation.Python.3.10_qbz5n2kfra8p0\\python.exe -m pip install --upgrade pip\n"
     ]
    }
   ],
   "source": [
    "!pip install openpyxl\n",
    "!pip install python-pptx"
   ]
  },
  {
   "cell_type": "code",
   "execution_count": null,
   "metadata": {},
   "outputs": [],
   "source": [
    "import openpyxl\n",
    "from pptx import Presentation\n",
    "from pptx.chart.data import ChartData\n",
    "from pptx.enum.chart import XL_CHART_TYPE\n"
   ]
  },
  {
   "attachments": {},
   "cell_type": "markdown",
   "metadata": {},
   "source": [
    "# Editando o Excel"
   ]
  },
  {
   "cell_type": "code",
   "execution_count": null,
   "metadata": {},
   "outputs": [],
   "source": []
  }
 ],
 "metadata": {
  "kernelspec": {
   "display_name": "Python 3",
   "language": "python",
   "name": "python3"
  },
  "language_info": {
   "codemirror_mode": {
    "name": "ipython",
    "version": 3
   },
   "file_extension": ".py",
   "mimetype": "text/x-python",
   "name": "python",
   "nbconvert_exporter": "python",
   "pygments_lexer": "ipython3",
   "version": "3.10.11"
  },
  "orig_nbformat": 4
 },
 "nbformat": 4,
 "nbformat_minor": 2
}
