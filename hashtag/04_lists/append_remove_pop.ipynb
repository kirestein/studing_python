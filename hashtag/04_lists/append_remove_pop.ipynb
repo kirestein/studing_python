{
 "cells": [
  {
   "attachments": {},
   "cell_type": "markdown",
   "metadata": {},
   "source": [
    "# Adicionar e remover itens de uma lista\n",
    "### - Append: nome_da_lista.append(item_a_ser_inserido) - insere o item no final da lista\n",
    "<br />\n",
    "<h3> - Pop: nome_da_lista.pop(índice_do_item) </h3> - Por padrão o pop remove o último item da lista, a menos que vc passe o índice do objeto a ser removido\n",
    "<br />\n",
    "<h3> - Remove: nome_da_lista.remove(item a ser removido) </h3> \n"
   ]
  },
  {
   "cell_type": "code",
   "execution_count": null,
   "metadata": {},
   "outputs": [],
   "source": [
    "produtos = ['apple tv', 'mac', 'iphone x', 'iPad', 'apple watch', 'mac book', 'airpods']"
   ]
  },
  {
   "cell_type": "code",
   "execution_count": null,
   "metadata": {},
   "outputs": [],
   "source": []
  }
 ],
 "metadata": {
  "kernelspec": {
   "display_name": "Python 3",
   "language": "python",
   "name": "python3"
  },
  "language_info": {
   "name": "python",
   "version": "3.10.11"
  },
  "orig_nbformat": 4
 },
 "nbformat": 4,
 "nbformat_minor": 2
}
